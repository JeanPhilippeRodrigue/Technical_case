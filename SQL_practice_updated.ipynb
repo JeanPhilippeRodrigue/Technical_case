{
  "nbformat": 4,
  "nbformat_minor": 0,
  "metadata": {
    "colab": {
      "name": "SQL_practice.ipynb",
      "provenance": [],
      "collapsed_sections": []
    },
    "kernelspec": {
      "name": "python3",
      "display_name": "Python 3"
    }
  },
  "cells": [
    {
      "cell_type": "code",
      "metadata": {
        "id": "OCEv6-OWp7CH"
      },
      "source": [
        "# Question 1: List all visits with at least one click.\n",
        "\n",
        "#Option 1:\n",
        "\n",
        "SELECT distinct visitId\n",
        "  FROM clicks\n",
        "\n",
        "# Option 2:\n",
        "\n",
        "SELECT distinct s.visitId\n",
        "  FROM searches s \n",
        "  LEFT JOIN clicks c on c.searchId = s.id\n",
        "  WHERE clickId is not NULL\n",
        "\n",
        "# Option 3:\n",
        "\n",
        "SELECT s.visitId\n",
        "  FROM searches s \n",
        "  LEFT JOIN clicks c on c.searchId = s.id\n",
        "  GROUP BY 1\n",
        "  HAVING count(clickId) > 0\n",
        "\n",
        "\n"
      ],
      "execution_count": null,
      "outputs": []
    },
    {
      "cell_type": "code",
      "metadata": {
        "id": "Q2FVJxh0sDnm"
      },
      "source": [
        "# Question 2: The percentage of search having clicks per day, over the last 7 days, including overall summary value, using single SQL query.\n",
        "## Assuming it would be the same timezone for all countries (our timezone) and today is the last day of the datetime dimension in the search table. I'm also using PostgreSQL.\n",
        "\n",
        "select date,\n",
        "       round((select count(id)\n",
        "               from (select id\n",
        "                      from searches) search\n",
        "               left join (select searchId, \n",
        "                                 clickId\n",
        "                          from clicks) clicks on clicks.searchId = search.id\n",
        "               where clickId IS NOT NULL and current_date() - search.datetime::date <= 7)::numeric / (select count(id) \n",
        "                                                                                               from searches\n",
        "                                                                                               where current_date() - datetime::date <= 7), 2) as total_pct_search_clicks,\n",
        "        round(count( CASE WHEN \n",
        "                  clickId IS NOT NULL then id\n",
        "                  ELSE NULL END)::numeric / count(id), 2) as pct_search_clicks_per_day\n",
        "\n",
        "from (select datetime::date as date,\n",
        "             id\n",
        "        from searches) s\n",
        "                                                 \n",
        "left join (select searchId,\n",
        "                  clickId\n",
        "            from clicks) c on c.searchId = s.id\n",
        "WHERE current_date() - date <=7\n",
        "GROUP BY 1\n",
        "\n",
        "# Another interesting question would be comparing the click-through overall vs the last 7 days. To add a bit more difficulty, let's care about the time zone! \n",
        "# Let's cast the datetime so that we take different timezones into consideration. Assuming that the data is in UTC and we want to analyze China only with its respective time zone (CCT):\n",
        "\n",
        "select \n",
        "count(clickId)::numeric / count(id) as overall_click_rate,\n",
        "       count( CASE WHEN\n",
        "              current_date() AT TIME ZONE 'UTC' AT TIME ZONE 'CCT' - (datetime AT TIME ZONE 'UTC' AT TIME ZONE 'CCT')::date <= 7 then clickId\n",
        "              ELSE NULL END)::numeric / count(CASE WHEN\n",
        "              current_date() AT TIME ZONE 'UTC' AT TIME ZONE 'CCT' - (datetime AT TIME ZONE 'UTC' AT TIME ZONE 'CCT')::date <= 7 then id\n",
        "              ELSE NULL END) as click_rate_7_days\n",
        "\n",
        "from search s\n",
        "left join on clicks c on c.searchId = s.id\n",
        "\n",
        "\n"
      ],
      "execution_count": null,
      "outputs": []
    },
    {
      "cell_type": "code",
      "metadata": {
        "id": "fz9daCx66Akq"
      },
      "source": [
        "# Question 3: List the 10 most active users (by number of searches) having at least 1 click on a document coming from a source starting with “Confluence”.\n",
        "\n",
        "SELECT s.username,      \n",
        "  FROM searches s\n",
        "  LEFT JOIN clicks c on c.searchId = s.id\n",
        "  WHERE c.sourceName LIKE '%Confluence%'\n",
        "  GROUP BY 1\n",
        "  HAVING count(clickId) >= 1\n",
        "  ORDER BY count(id) DESC\n",
        "  LIMIT 10"
      ],
      "execution_count": null,
      "outputs": []
    },
    {
      "cell_type": "code",
      "metadata": {
        "id": "x-NhX4AlJ-Zj"
      },
      "source": [
        "# Question 4: List the top 10 most popular items and display their average click rank.\n",
        "\n",
        "## Here I will use the number of visits instead of number of clicks since an item could be opened more than one time per visit. - I will prove it using the second query.\n",
        "\n",
        "SELECT documentTitle,\n",
        "       count(distinct visitId) as num_visits,\n",
        "       AVG(clickRank) as avg_click_rank\n",
        "       FROM clicks\n",
        "       GROUP BY 1\n",
        "       ORDER BY 2 DESC\n",
        "       LIMIT 10\n",
        "\n",
        "\n",
        "# --> Documents (items) with more than 1 click per visit\n",
        "\n",
        "WITH base_table AS (\n",
        "    SELECT documentTitle,\n",
        "    count(distinct visitId) as num_visits,\n",
        "    count(clickId) as num_clicks\n",
        "    FROM clicks\n",
        "    GROUP BY 1\n",
        "    ORDER BY 2 DESC\n",
        "    )\n",
        "\n",
        "SELECT *\n",
        "FROM base_table\n",
        "WHERE (num_clicks - num_visits) != 0\n"
      ],
      "execution_count": null,
      "outputs": []
    },
    {
      "cell_type": "markdown",
      "metadata": {
        "id": "lfCmvRQONpRC"
      },
      "source": [
        "# Extra SQL Queries"
      ]
    },
    {
      "cell_type": "code",
      "metadata": {
        "id": "86ufJ1zbNiNf"
      },
      "source": [
        "# Knowing that a click-through rate of below 40% is bad and should be looked into, between 40% and 60% is a gray zone and should be under watch and about 60% is optimal, let's give each query \n",
        "#one of the following category: Bad if < 40%, okish if 40% < > 60% and splendid if > 60%. Moreover, let's sort the list by number of searches.\n",
        "\n",
        "WITH click_rate_table as (\n",
        "   SELECT queryExpression,\n",
        "   count(id) as num_searches,\n",
        "   round((count(clickId)*1.0 / (count(id))) * 100, 2) as click_rate\n",
        "   FROM searches s\n",
        "   LEFT JOIN clicks c on c.searchId = s.id\n",
        "   GROUP BY 1\n",
        "   ORDER BY 2 DESC )\n",
        "                        \n",
        "   SELECT *,\n",
        "          CASE \n",
        "           WHEN click_rate < 40 then 'Bad'\n",
        "           WHEN click_rate >= 40 AND click_rate < 60 then 'okish'\n",
        "           WHEN click_rate >= 60 then 'Splendid'\n",
        "           ELSE NULL END as category\n",
        "   FROM click_rate_table"
      ],
      "execution_count": null,
      "outputs": []
    },
    {
      "cell_type": "code",
      "metadata": {
        "id": "ZNXe0g7kC-VX"
      },
      "source": [
        "# Let's try to find change the amount of searches and clicks over each day.\n",
        "\n",
        "WITH base_table AS (\n",
        "    SELECT date,\n",
        "    count(id),\n",
        "    count(clickId),\n",
        "    round((count(clickId)*1.0 / (count(id))) * 100, 2) as click_rate\n",
        "    FROM (SELECT id,\n",
        "                 datetime::date as date\n",
        "          FROM searches) as s\n",
        "                              \n",
        "    LEFT JOIN (SELECT searchId,\n",
        "                      clickId\n",
        "              FROM clicks) c on c.searchId = s.id\n",
        "              GROUP BY date), \n",
        "   \n",
        "    click_rate_prev_day AS (\n",
        "    SELECT *,\n",
        "           LAG(click_rate, 1, 0) OVER (ORDER BY date) as click_rate_previous_day\n",
        "    FROM base_table)\n",
        "\n",
        "\n",
        "    SELECT *,\n",
        "           (click_rate / click_rate_previous_day) - 1 as pct_change\n",
        "    FROM click_rate_prev_day\n",
        "\n",
        "    # ==> Note that I could have also done it this way (It's a little bit shorter):\n",
        "\n",
        "WITH base_table AS (\n",
        "    SELECT date,\n",
        "    count(id) as num_searches,\n",
        "    count(clickId) as num_clicks,\n",
        "    round((count(clickId)*1.0 / (count(id))) * 100, 2) as click_rate\n",
        "    FROM (SELECT id,\n",
        "                 datetime::date as date\n",
        "          FROM searches) as s\n",
        "                              \n",
        "    LEFT JOIN (SELECT searchId,\n",
        "                      clickId\n",
        "              FROM clicks) c on c.searchId = s.id\n",
        "              GROUP BY date)\n",
        "   \n",
        "    SELECT *,\n",
        "           (click_rate / LAG(click_rate, 1, 0) OVER (ORDER BY date)) - 1 as click_rate_previous_day\n",
        "    FROM base_table)"
      ],
      "execution_count": null,
      "outputs": []
    }
  ]
}